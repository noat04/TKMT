{
 "cells": [
  {
   "cell_type": "markdown",
   "metadata": {},
   "source": [
    "# Ôn tập giữa kỳ\n"
   ]
  },
  {
   "cell_type": "code",
   "execution_count": 4,
   "metadata": {},
   "outputs": [],
   "source": [
    "# Import các thư viện thông dụng\n",
    "import numpy as np\n",
    "import pandas as pd\n",
    "import matplotlib.pyplot as plt\n",
    "import seaborn as sns\n",
    "\n",
    "# Import các distribution packages từ thư viện scipy\n",
    "from scipy.stats import binom\n",
    "from scipy.stats import poisson\n",
    "from scipy.stats import norm\n",
    "from scipy.stats import t"
   ]
  },
  {
   "cell_type": "markdown",
   "metadata": {},
   "source": [
    "## ĐỀ BÀI\n",
    "\n",
    "Hệ thống giám sát rủi ro dựa trên hành vi (The Behavior Risk Factor Surveilance System - BRFSS) là một cuộc khảo sát qua điện thoại hàng năm với 350.000 người ở Hoa Kỳ. Như tên gọi của nó, BRFSS được thiết kế để xác định các yếu tố nguy cơ ở người trưởng thành và báo cáo các xu hướng sức khỏe mớ. Ví dụ, người trả lời được hỏi về chế độ ăn uống và hoạt động thể chất hàng tuần, tình trạng HIV/AIDS, khả năng sử dụng thuốc lá và thậm chí cả mức độ chi trả dịch vụ chăm sóc sức khỏe của họ. \n",
    "\n",
    "Bộ dữ liệu **brfss_2000** chứa thông tin khảo sát năm 2000, với hơn 200 thông tin. Trong bộ dữ liệu này, ta chỉ khảo sát một số thông tin sau:\n",
    "-\tgenhlth: người khảo sát tự đánh giá sức khỏe (excellent, very good, good, fair or poor)\n",
    "-\texerany: cho biết có hoạt động thể chất nào trong tháng gần nhất hay không, có (1), không (0)\n",
    "-\thlthplan: có bảo hiểm (1) hay không (0)\n",
    "-\tsmoke100: tổng số điếu thuốc đã hút ít nhất\n",
    "-\theight: chiều cao (inches)\n",
    "-\tweight: cân nặng (pounds)\n",
    "-\twtdesire:  cân nặng mong muốn(pounds)\n",
    "-\tage: tuổi\n",
    "-\tgender: giới tính: nam(m), nữ(f)\n"
   ]
  },
  {
   "cell_type": "markdown",
   "metadata": {},
   "source": [
    "### Câu 1:\n",
    "\n",
    "Đọc hai bộ dữ liệu trên và cho biết mỗi bộ dữ liệu có kích thước bao nhiêu dòng, bao nhiêu cột?"
   ]
  },
  {
   "cell_type": "code",
   "execution_count": 2,
   "metadata": {
    "scrolled": true
   },
   "outputs": [
    {
     "data": {
      "text/plain": [
       "(20000, 9)"
      ]
     },
     "execution_count": 2,
     "metadata": {},
     "output_type": "execute_result"
    }
   ],
   "source": [
    "data = pd.read_csv('datasets/brfss_2000.csv')\n",
    "#Cho biết bảng dữ liệu có bao nhiêu dòng và bao nhiêu cột?\n",
    "data.shape"
   ]
  },
  {
   "cell_type": "code",
   "execution_count": 6,
   "metadata": {
    "scrolled": true
   },
   "outputs": [
    {
     "data": {
      "text/html": [
       "<div>\n",
       "<style scoped>\n",
       "    .dataframe tbody tr th:only-of-type {\n",
       "        vertical-align: middle;\n",
       "    }\n",
       "\n",
       "    .dataframe tbody tr th {\n",
       "        vertical-align: top;\n",
       "    }\n",
       "\n",
       "    .dataframe thead th {\n",
       "        text-align: right;\n",
       "    }\n",
       "</style>\n",
       "<table border=\"1\" class=\"dataframe\">\n",
       "  <thead>\n",
       "    <tr style=\"text-align: right;\">\n",
       "      <th></th>\n",
       "      <th>exerany</th>\n",
       "      <th>hlthplan</th>\n",
       "      <th>smoke100</th>\n",
       "      <th>height</th>\n",
       "      <th>weight</th>\n",
       "      <th>wtdesire</th>\n",
       "      <th>age</th>\n",
       "      <th>gender</th>\n",
       "      <th>genhlth</th>\n",
       "    </tr>\n",
       "  </thead>\n",
       "  <tbody>\n",
       "    <tr>\n",
       "      <th>0</th>\n",
       "      <td>0</td>\n",
       "      <td>1</td>\n",
       "      <td>0</td>\n",
       "      <td>70</td>\n",
       "      <td>175</td>\n",
       "      <td>175</td>\n",
       "      <td>77</td>\n",
       "      <td>m</td>\n",
       "      <td>good</td>\n",
       "    </tr>\n",
       "    <tr>\n",
       "      <th>1</th>\n",
       "      <td>0</td>\n",
       "      <td>1</td>\n",
       "      <td>1</td>\n",
       "      <td>64</td>\n",
       "      <td>125</td>\n",
       "      <td>115</td>\n",
       "      <td>33</td>\n",
       "      <td>f</td>\n",
       "      <td>good</td>\n",
       "    </tr>\n",
       "    <tr>\n",
       "      <th>2</th>\n",
       "      <td>1</td>\n",
       "      <td>1</td>\n",
       "      <td>1</td>\n",
       "      <td>60</td>\n",
       "      <td>105</td>\n",
       "      <td>105</td>\n",
       "      <td>49</td>\n",
       "      <td>f</td>\n",
       "      <td>good</td>\n",
       "    </tr>\n",
       "    <tr>\n",
       "      <th>3</th>\n",
       "      <td>1</td>\n",
       "      <td>1</td>\n",
       "      <td>0</td>\n",
       "      <td>66</td>\n",
       "      <td>132</td>\n",
       "      <td>124</td>\n",
       "      <td>42</td>\n",
       "      <td>f</td>\n",
       "      <td>good</td>\n",
       "    </tr>\n",
       "    <tr>\n",
       "      <th>4</th>\n",
       "      <td>0</td>\n",
       "      <td>1</td>\n",
       "      <td>0</td>\n",
       "      <td>61</td>\n",
       "      <td>150</td>\n",
       "      <td>130</td>\n",
       "      <td>55</td>\n",
       "      <td>f</td>\n",
       "      <td>very good</td>\n",
       "    </tr>\n",
       "    <tr>\n",
       "      <th>5</th>\n",
       "      <td>1</td>\n",
       "      <td>1</td>\n",
       "      <td>0</td>\n",
       "      <td>64</td>\n",
       "      <td>114</td>\n",
       "      <td>114</td>\n",
       "      <td>55</td>\n",
       "      <td>f</td>\n",
       "      <td>very good</td>\n",
       "    </tr>\n",
       "    <tr>\n",
       "      <th>6</th>\n",
       "      <td>1</td>\n",
       "      <td>1</td>\n",
       "      <td>0</td>\n",
       "      <td>71</td>\n",
       "      <td>194</td>\n",
       "      <td>185</td>\n",
       "      <td>31</td>\n",
       "      <td>m</td>\n",
       "      <td>very good</td>\n",
       "    </tr>\n",
       "    <tr>\n",
       "      <th>7</th>\n",
       "      <td>0</td>\n",
       "      <td>1</td>\n",
       "      <td>0</td>\n",
       "      <td>67</td>\n",
       "      <td>170</td>\n",
       "      <td>160</td>\n",
       "      <td>45</td>\n",
       "      <td>m</td>\n",
       "      <td>very good</td>\n",
       "    </tr>\n",
       "    <tr>\n",
       "      <th>8</th>\n",
       "      <td>0</td>\n",
       "      <td>1</td>\n",
       "      <td>1</td>\n",
       "      <td>65</td>\n",
       "      <td>150</td>\n",
       "      <td>130</td>\n",
       "      <td>27</td>\n",
       "      <td>f</td>\n",
       "      <td>good</td>\n",
       "    </tr>\n",
       "    <tr>\n",
       "      <th>9</th>\n",
       "      <td>1</td>\n",
       "      <td>1</td>\n",
       "      <td>0</td>\n",
       "      <td>70</td>\n",
       "      <td>180</td>\n",
       "      <td>170</td>\n",
       "      <td>44</td>\n",
       "      <td>m</td>\n",
       "      <td>good</td>\n",
       "    </tr>\n",
       "  </tbody>\n",
       "</table>\n",
       "</div>"
      ],
      "text/plain": [
       "   exerany  hlthplan  smoke100  height  weight  wtdesire  age gender  \\\n",
       "0        0         1         0      70     175       175   77      m   \n",
       "1        0         1         1      64     125       115   33      f   \n",
       "2        1         1         1      60     105       105   49      f   \n",
       "3        1         1         0      66     132       124   42      f   \n",
       "4        0         1         0      61     150       130   55      f   \n",
       "5        1         1         0      64     114       114   55      f   \n",
       "6        1         1         0      71     194       185   31      m   \n",
       "7        0         1         0      67     170       160   45      m   \n",
       "8        0         1         1      65     150       130   27      f   \n",
       "9        1         1         0      70     180       170   44      m   \n",
       "\n",
       "     genhlth  \n",
       "0       good  \n",
       "1       good  \n",
       "2       good  \n",
       "3       good  \n",
       "4  very good  \n",
       "5  very good  \n",
       "6  very good  \n",
       "7  very good  \n",
       "8       good  \n",
       "9       good  "
      ]
     },
     "execution_count": 6,
     "metadata": {},
     "output_type": "execute_result"
    }
   ],
   "source": [
    "data.head(10)"
   ]
  },
  {
   "cell_type": "markdown",
   "metadata": {},
   "source": [
    "### Câu 2\n",
    "\n",
    "a, Tính tỷ lệ nam nữ\n",
    "\n",
    "b, Trong số những người tập thể thao, tỷ lệ những người tự đánh giá có sức khỏe kém là bao nhiêu?"
   ]
  },
  {
   "cell_type": "code",
   "execution_count": 9,
   "metadata": {},
   "outputs": [
    {
     "name": "stdout",
     "output_type": "stream",
     "text": [
      "Tỷ lệ Nam: 47.84%\n",
      "Tỷ lệ Nữ: 52.15%\n",
      "Tỷ lệ người tập thể thao có sức khỏe kém: 1.96%\n"
     ]
    }
   ],
   "source": [
    "# a. Tính tỷ lệ nam nữ\n",
    "tong_so = len(data)\n",
    "so_nam = len(data[data[\"gender\"] == \"m\"])\n",
    "so_nu = len(data[data[\"gender\"] == \"f\"])\n",
    "\n",
    "ty_le_nam = so_nam / tong_so * 100\n",
    "ty_le_nu = so_nu / tong_so * 100\n",
    "\n",
    "print(f\"Tỷ lệ Nam: {ty_le_nam:.2f}%\")\n",
    "print(f\"Tỷ lệ Nữ: {ty_le_nu:.2f}%\")\n",
    "\n",
    "# b. Tính tỷ lệ người tập thể thao tự đánh giá sức khỏe kém\n",
    "tap_the_thao = data[data[\"exerany\"] == 1]  # Lọc những người tập thể thao\n",
    "suc_khoe_kem = len(tap_the_thao[tap_the_thao[\"genhlth\"] == \"poor\"])  # Tìm người có sức khỏe kém\n",
    "tong_tap_the_thao = len(tap_the_thao)\n",
    "\n",
    "ty_le_suc_khoe_kem = (suc_khoe_kem / tong_tap_the_thao) * 100 if tong_tap_the_thao > 0 else 0\n",
    "\n",
    "print(f\"Tỷ lệ người tập thể thao có sức khỏe kém: {ty_le_suc_khoe_kem:.2f}%\")"
   ]
  },
  {
   "cell_type": "markdown",
   "metadata": {},
   "source": [
    "### Câu 3\n",
    "\n",
    "a, Đổi đơn vị chiều cao từ inches sang centimet, đơn vị cân nặng từ pound sang kg.\n",
    "\n",
    "b, Tính tỷ lệ những người muốn giảm cân."
   ]
  },
  {
   "cell_type": "code",
   "execution_count": 11,
   "metadata": {},
   "outputs": [
    {
     "name": "stdout",
     "output_type": "stream",
     "text": [
      "Dữ liệu sau khi đổi đơn vị:\n",
      "   height  height_cm  weight  weight_kg\n",
      "0      70     177.80     175  79.378600\n",
      "1      64     162.56     125  56.699000\n",
      "2      60     152.40     105  47.627160\n",
      "3      66     167.64     132  59.874144\n",
      "4      61     154.94     150  68.038800\n",
      "Tỷ lệ những người muốn giảm cân: 63.82%\n"
     ]
    }
   ],
   "source": [
    "# a. Đổi đơn vị chiều cao và cân nặng\n",
    "data[\"height_cm\"] = data[\"height\"] * 2.54  # Đổi chiều cao từ inches sang centimet\n",
    "data[\"weight_kg\"] = data[\"weight\"] * 0.453592  # Đổi cân nặng từ pound sang kg\n",
    "\n",
    "# Hiển thị dữ liệu sau khi đổi đơn vị\n",
    "print(\"Dữ liệu sau khi đổi đơn vị:\")\n",
    "print(data[[\"height\", \"height_cm\", \"weight\", \"weight_kg\"]].head())\n",
    "\n",
    "# b. Tính tỷ lệ những người muốn giảm cân\n",
    "muon_giam_can = data[data[\"weight\"] > data[\"wtdesire\"]]  # Lọc những người muốn giảm cân\n",
    "tong_so = len(data)  # Tổng số người\n",
    "so_nguoi_muon_giam_can = len(muon_giam_can)\n",
    "\n",
    "ty_le_giam_can = (so_nguoi_muon_giam_can / tong_so) * 100 if tong_so > 0 else 0\n",
    "\n",
    "print(f\"Tỷ lệ những người muốn giảm cân: {ty_le_giam_can:.2f}%\")"
   ]
  },
  {
   "cell_type": "markdown",
   "metadata": {},
   "source": [
    "### Câu 4:\n",
    "\n",
    "a, Theo bạn trong các thuộc tính trên, thuộc tính nào có phân phối chuẩn. Vẽ hình minh họa\n",
    "\n",
    "b, Vẽ đồ thị boxplot so sánh cân nặng của những người có tập thể dục"
   ]
  },
  {
   "cell_type": "code",
   "execution_count": 24,
   "metadata": {},
   "outputs": [
    {
     "data": {
      "image/png": "[encoded data removed]",
      "text/plain": [
       "<Figure size 720x576 with 9 Axes>"
      ]
     },
     "metadata": {
      "needs_background": "light"
     },
     "output_type": "display_data"
    },
    {
     "data": {
      "image/png": "[encoded data removed]",
      "text/plain": [
       "<Figure size 576x432 with 1 Axes>"
      ]
     },
     "metadata": {
      "needs_background": "light"
     },
     "output_type": "display_data"
    }
   ],
   "source": [
    "#a\n",
    "# Lấy danh sách các cột số\n",
    "numeric_cols = data.select_dtypes(include=['float64', 'int64']).columns\n",
    "\n",
    "# Vẽ histogram của tất cả các biến số\n",
    "data[numeric_cols].hist(figsize=(10, 8), bins=30, edgecolor='black', grid=False)\n",
    "plt.suptitle(\"Histogram of Numeric Columns\", fontsize=14)\n",
    "plt.show()\n",
    "\n",
    "#b)# Vẽ boxplot so sánh cân nặng của những người có tập thể dục (exerany)\n",
    "plt.figure(figsize=(8, 6))\n",
    "sns.boxplot(x='exerany', y='weight', data=data, palette=\"Set3\")\n",
    "plt.title(\"Boxplot - Cân nặng theo trạng thái tập thể dục\", fontsize=14)\n",
    "plt.xlabel(\"Tập thể dục (0 = Không, 1 = Có)\", fontsize=12)\n",
    "plt.ylabel(\"Cân nặng (pound)\", fontsize=12)\n",
    "plt.show()"
   ]
  },
  {
   "cell_type": "markdown",
   "metadata": {},
   "source": [
    "\n",
    "### Câu 5\n",
    "\n",
    "Phân bố tuổi tác trong mẫu: Hãy mô tả phân bố tuổi của người tham gia khảo sát. Tuổi trung bình, độ lệch chuẩn, và các phân vị 25%, 50%, 75% là bao nhiêu?\n",
    "\n"
   ]
  },
  {
   "cell_type": "code",
   "execution_count": 25,
   "metadata": {},
   "outputs": [
    {
     "data": {
      "text/plain": [
       "(count    20000.000000\n",
       " mean        45.068250\n",
       " std         17.192689\n",
       " min         18.000000\n",
       " 25%         31.000000\n",
       " 50%         43.000000\n",
       " 75%         57.000000\n",
       " max         99.000000\n",
       " Name: age, dtype: float64, 45.06825, 17.19268947448475, 31.0, 43.0, 57.0)"
      ]
     },
     "execution_count": 25,
     "metadata": {},
     "output_type": "execute_result"
    }
   ],
   "source": [
    "# Tính các thống kê mô tả cho tuổi (age)\n",
    "age_stats = data['age'].describe()\n",
    "\n",
    "# Lấy tuổi trung bình, độ lệch chuẩn, và các phân vị 25%, 50%, 75%\n",
    "age_mean = data['age'].mean()\n",
    "age_std = data['age'].std()\n",
    "age_25 = data['age'].quantile(0.25)\n",
    "age_50 = data['age'].quantile(0.50)\n",
    "age_75 = data['age'].quantile(0.75)\n",
    "\n",
    "age_stats, age_mean, age_std, age_25, age_50, age_75\n"
   ]
  },
  {
   "cell_type": "markdown",
   "metadata": {},
   "source": [
    "### Câu 6\n",
    "\n",
    "Tỉ lệ người hút thuốc: Tính tỉ lệ phần trăm người tham gia khảo sát hiện đang hút thuốc lá. Liệu có sự khác biệt đáng kể về tỉ lệ này giữa các nhóm tuổi khác nhau không?\n",
    "\n"
   ]
  },
  {
   "cell_type": "code",
   "execution_count": 26,
   "metadata": {},
   "outputs": [
    {
     "data": {
      "text/plain": [
       "(47.205000000000005, age_group\n",
       " <30      38.846641\n",
       " 30-50    46.469741\n",
       " >50      53.790718\n",
       " Name: smoke100, dtype: float64)"
      ]
     },
     "execution_count": 26,
     "metadata": {},
     "output_type": "execute_result"
    }
   ],
   "source": [
    "# Tính tỷ lệ phần trăm người hút thuốc lá (smoke100 = 1)\n",
    "smoking_rate = (data['smoke100'].mean()) * 100\n",
    "\n",
    "# Phân nhóm theo tuổi và tính tỷ lệ người hút thuốc trong từng nhóm\n",
    "# Chia nhóm tuổi theo các khoảng: <30, 30-50, >50\n",
    "data['age_group'] = pd.cut(data['age'], bins=[0, 30, 50, 100], labels=['<30', '30-50', '>50'])\n",
    "smoking_by_age_group = data.groupby('age_group')['smoke100'].mean() * 100\n",
    "\n",
    "smoking_rate, smoking_by_age_group\n"
   ]
  },
  {
   "cell_type": "markdown",
   "metadata": {},
   "source": [
    "### Câu 7\n",
    "\n",
    "BMI trung bình theo giới tính: Tính chỉ số BMI trung bình cho nam và nữ trong mẫu. \n",
    "\n"
   ]
  },
  {
   "cell_type": "code",
   "execution_count": 29,
   "metadata": {},
   "outputs": [
    {
     "data": {
      "text/plain": [
       "gender\n",
       "f    25.741147\n",
       "m    26.923670\n",
       "Name: BMI, dtype: float64"
      ]
     },
     "execution_count": 29,
     "metadata": {},
     "output_type": "execute_result"
    }
   ],
   "source": [
    "# Tính BMI cho mỗi người: BMI = weight (pound) / (height (inch))^2 * 703\n",
    "data['BMI'] = data['weight'] / (data['height'] ** 2) * 703\n",
    "\n",
    "# Tính BMI trung bình theo giới tính\n",
    "bmi_by_gender = data.groupby('gender')['BMI'].mean()\n",
    "\n",
    "bmi_by_gender\n"
   ]
  },
  {
   "cell_type": "markdown",
   "metadata": {},
   "source": [
    "### câu 8\n",
    "\n",
    "Phân tích tỉ lệ bệnh béo phì: Sử dụng các tiêu chuẩn của CDC về chỉ số BMI để phân loại người tham gia vào nhóm béo phì. Tính tỉ lệ béo phì theo giới tính và độ tuổi. "
   ]
  },
  {
   "cell_type": "code",
   "execution_count": 30,
   "metadata": {},
   "outputs": [
    {
     "data": {
      "text/plain": [
       "(gender\n",
       " f    18.512127\n",
       " m    20.117045\n",
       " Name: obesity, dtype: float64, age_group\n",
       " <30      13.751584\n",
       " 30-50    21.253602\n",
       " >50      20.683194\n",
       " Name: obesity, dtype: float64)"
      ]
     },
     "execution_count": 30,
     "metadata": {},
     "output_type": "execute_result"
    }
   ],
   "source": [
    "# Phân loại béo phì theo tiêu chuẩn CDC\n",
    "# Underweight: < 18.5, Normal weight: 18.5 - 24.9, Overweight: 25 - 29.9, Obese: >= 30\n",
    "data['obesity'] = data['BMI'] >= 30\n",
    "\n",
    "# Tính tỷ lệ béo phì theo giới tính\n",
    "obesity_by_gender = data.groupby('gender')['obesity'].mean() * 100\n",
    "\n",
    "# Tính tỷ lệ béo phì theo nhóm tuổi\n",
    "obesity_by_age_group = data.groupby('age_group')['obesity'].mean() * 100\n",
    "\n",
    "obesity_by_gender, obesity_by_age_group\n"
   ]
  },
  {
   "cell_type": "markdown",
   "metadata": {},
   "source": [
    "\n",
    "4. (2 điểm) Tạo thêm một cột có tên BMI biết rằng:\n",
    "\n",
    "BMI = mas8kg chiều cao heightin × 703\n",
    "\n",
    "a. Vẽ đồ thị histogram của BMI (với bins-50). Từ phân phối của BMI bạn hãy đưa ra nhận xét về các đối tượng khảo sát trong dữ liệu.\n",
    "\n",
    "b. Vẽ đồ thị boxplot về BMI theo thuộc tỉnh tự đánh giá sức khỏe (genhlth). Dựa vào đồ thị đưa ra nhận xét."
   ]
  },
  {
   "cell_type": "code",
   "execution_count": 9,
   "metadata": {},
   "outputs": [
    {
     "data": {
      "image/png": "[encoded data removed]",
      "text/plain": [
       "<Figure size 720x432 with 1 Axes>"
      ]
     },
     "metadata": {
      "needs_background": "light"
     },
     "output_type": "display_data"
    },
    {
     "data": {
      "image/png": "[encoded data removed]",
      "text/plain": [
       "<Figure size 720x432 with 1 Axes>"
      ]
     },
     "metadata": {
      "needs_background": "light"
     },
     "output_type": "display_data"
    }
   ],
   "source": [
    "# Calculate BMI\n",
    "data['BMI'] = (data['weight'] / (data['height'] ** 2)) * 703\n",
    "\n",
    "# a) Plot histogram of BMI\n",
    "plt.figure(figsize=(10, 6))\n",
    "data['BMI'].hist(bins=50, edgecolor='black')\n",
    "plt.title('Histogram of BMI', fontsize=16)\n",
    "plt.xlabel('BMI', fontsize=12)\n",
    "plt.ylabel('Frequency', fontsize=12)\n",
    "plt.grid(False)\n",
    "plt.show()\n",
    "\n",
    "# b) Boxplot of BMI by general health\n",
    "plt.figure(figsize=(10, 6))\n",
    "sns.boxplot(x='genhlth', y='BMI', data=data, palette='Set3')\n",
    "plt.title('Boxplot of BMI by General Health', fontsize=16)\n",
    "plt.xlabel('General Health', fontsize=12)\n",
    "plt.ylabel('BMI', fontsize=12)\n",
    "plt.grid(axis='y', linestyle='--', alpha=0.7)\n",
    "plt.show()"
   ]
  },
  {
   "cell_type": "code",
   "execution_count": null,
   "metadata": {},
   "outputs": [],
   "source": []
  }
 ],
 "metadata": {
  "kernelspec": {
   "display_name": "Python 3",
   "language": "python",
   "name": "python3"
  },
  "language_info": {
   "codemirror_mode": {
    "name": "ipython",
    "version": 3
   },
   "file_extension": ".py",
   "mimetype": "text/x-python",
   "name": "python",
   "nbconvert_exporter": "python",
   "pygments_lexer": "ipython3",
   "version": "3.7.1"
  }
 },
 "nbformat": 4,
 "nbformat_minor": 2
}
