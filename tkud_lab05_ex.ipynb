{
 "cells": [
  {
   "cell_type": "markdown",
   "metadata": {
    "id": "hetF_D-MkzDt"
   },
   "source": [
    "# Lab 05 - Bài tập"
   ]
  },
  {
   "cell_type": "markdown",
   "metadata": {},
   "source": [
    "**Bài 01:** Một bài thi trắc nghiệm gồm 10 câu hỏi, mỗi câu có 4 phương án trả lời trong đó chỉ có một phương án đúng. Bạn hãy: \n",
    "\n",
    "a. Một sinh viên không học bài làm bài bằng cách chọn ngẫu nhiên một phương án cho mỗi câu hỏi. Bạn hãy dùng hàm random để in ra số câu đúng của bạn sinh viên trong 10 lần kiểm tra.\n",
    "\n",
    "b. Giả sử mỗi câu đúng được 4 điểm, mỗi câu sai bị trừ 2 điểm. Tính xác suất để sinh viên này được 4 điểm\n",
    "\n",
    "c. Gọi X là số câu trả lời đúng. Tính E(X) và Var(X)"
   ]
  },
  {
   "cell_type": "code",
   "execution_count": 1,
   "metadata": {},
   "outputs": [],
   "source": [
    "# Import các thư viện thông dụng\n",
    "import numpy as np\n",
    "import pandas as pd\n",
    "import matplotlib.pyplot as plt\n",
    "\n",
    "# Import các distribution packages từ thư viện scipy\n",
    "from scipy.stats import binom\n",
    "from scipy.stats import poisson\n",
    "from scipy.stats import norm\n",
    "from scipy.stats import t"
   ]
  },
  {
   "cell_type": "code",
   "execution_count": 2,
   "metadata": {},
   "outputs": [],
   "source": [
    "# Số câu hỏi và xác suất lựa chọn đáp án đúng ở một câu trả lời\n",
    "# n=10: Số lần thử nghiệm.\n",
    "# p=0.25: Xác suất thành công mỗi lần.\n",
    "n, p = 10, 0.25"
   ]
  },
  {
   "cell_type": "code",
   "execution_count": 3,
   "metadata": {
    "scrolled": false
   },
   "outputs": [
    {
     "data": {
      "text/plain": [
       "2"
      ]
     },
     "execution_count": 3,
     "metadata": {},
     "output_type": "execute_result"
    }
   ],
   "source": [
    "# Phát sinh ngẫu nhiên số câu đúng\n",
    "binom.rvs(n, p)"
   ]
  },
  {
   "cell_type": "markdown",
   "metadata": {},
   "source": [
    "Nếu lớp học có 10 bạn, thì có thể mô phỏng kết quả kiểm tra của lớp như sau:"
   ]
  },
  {
   "cell_type": "code",
   "execution_count": 4,
   "metadata": {
    "scrolled": true
   },
   "outputs": [
    {
     "data": {
      "text/plain": [
       "array([3, 4, 3, 2, 2, 2, 2, 3, 3, 3])"
      ]
     },
     "execution_count": 4,
     "metadata": {},
     "output_type": "execute_result"
    }
   ],
   "source": [
    "bi_sam_10 = binom.rvs(n, p, size=10)\n",
    "bi_sam_10"
   ]
  },
  {
   "cell_type": "code",
   "execution_count": 6,
   "metadata": {},
   "outputs": [
    {
     "name": "stdout",
     "output_type": "stream",
     "text": [
      "Xác suất để sinh viên được 4 điểm là: 0.1460\n"
     ]
    }
   ],
   "source": [
    "# b) Xác suất sinh viên trả lời đúng 4 câu\n",
    "probability_4_points = binom.pmf(4, n, p)\n",
    "print(f\"Xác suất để sinh viên được 4 điểm là: {probability_4_points:.4f}\")"
   ]
  },
  {
   "cell_type": "code",
   "execution_count": 7,
   "metadata": {},
   "outputs": [
    {
     "name": "stdout",
     "output_type": "stream",
     "text": [
      "Kỳ vọng E(X): 2.5\n",
      "Phương sai Var(X): 1.875\n"
     ]
    }
   ],
   "source": [
    "# c. Tính kỳ vọng E(X) và phương sai Var(X)\n",
    "n, p = 10, 0.25  # 10 câu hỏi, mỗi câu có xác suất trả lời đúng là 1/4\n",
    "E_X = n * p  # Kỳ vọng E(X) = n * p\n",
    "Var_X = n * p * (1 - p)  # Phương sai Var(X) = n * p * (1 - p)\n",
    "\n",
    "print(f\"Kỳ vọng E(X): {E_X}\")\n",
    "print(f\"Phương sai Var(X): {Var_X}\")"
   ]
  },
  {
   "cell_type": "markdown",
   "metadata": {},
   "source": [
    "**Bài 02:** Một trung tâm bưu điện nhận được 3 cuộc gọi điện thoại mỗi phút. Tính xác suất để trung tâm nhận được 1 cuộc gọi, 2 cuộc gọi, 3 cuộc gọi trong vòng một phút biết số cuộc gọi trong một phút có phân phối Poisson."
   ]
  },
  {
   "cell_type": "code",
   "execution_count": 10,
   "metadata": {},
   "outputs": [
    {
     "name": "stdout",
     "output_type": "stream",
     "text": [
      "Xác suất nhận được 1 cuộc gọi: 0.1494\n",
      "Xác suất nhận được 2 cuộc gọi: 0.2240\n",
      "Xác suất nhận được 3 cuộc gọi: 0.2240\n"
     ]
    }
   ],
   "source": [
    "# Thiết lập tham số phân phối Poisson\n",
    "lambda_value = 3  # Trung bình số cuộc gọi mỗi phút\n",
    "\n",
    "# Tính xác suất để trung tâm nhận được 1, 2, 3 cuộc gọi\n",
    "p_1 = poisson.pmf(1, lambda_value)  # P(X = 1)\n",
    "p_2 = poisson.pmf(2, lambda_value)  # P(X = 2)\n",
    "p_3 = poisson.pmf(3, lambda_value)  # P(X = 3)\n",
    "print(f\"Xác suất nhận được 1 cuộc gọi: {p_1:.4f}\")\n",
    "print(f\"Xác suất nhận được 2 cuộc gọi: {p_2:.4f}\")\n",
    "print(f\"Xác suất nhận được 3 cuộc gọi: {p_3:.4f}\")"
   ]
  },
  {
   "cell_type": "code",
   "execution_count": 13,
   "metadata": {},
   "outputs": [
    {
     "data": {
      "image/png": "[encoded data removed]",
      "text/plain": [
       "<Figure size 432x288 with 1 Axes>"
      ]
     },
     "metadata": {
      "needs_background": "light"
     },
     "output_type": "display_data"
    }
   ],
   "source": [
    "import numpy as np\n",
    "import pandas as pd\n",
    "import matplotlib.pyplot as plt\n",
    "from scipy.stats import poisson\n",
    "\n",
    "# Thiết lập tham số phân phối Poisson\n",
    "lambda_value = 3  # Trung bình số cuộc gọi mỗi phút\n",
    "\n",
    "# Mô phỏng 10000 mẫu dữ liệu từ phân phối Poisson với lambda = 3\n",
    "sample_size = 10000\n",
    "poi_samples = poisson.rvs(lambda_value, size=sample_size)\n",
    "\n",
    "# Tạo bảng tần số\n",
    "freq_table = pd.Series(poi_samples).value_counts().sort_index()\n",
    "\n",
    "# Vẽ histogram phân phối Poisson\n",
    "dorongcot = 0.4  # Độ rộng cột cho histogram\n",
    "offset = dorongcot / 2  # Dùng để hiển thị ngay dấu ticks\n",
    "\n",
    "plt.hist(poi_samples - offset, bins=max(freq_table.index), width=dorongcot, edgecolor='black')\n",
    "\n",
    "plt.ylabel('Tần số')\n",
    "plt.xlabel('Số cuộc gọi')\n",
    "plt.title('Histogram phân phối Poisson')\n",
    "\n",
    "plt.show()\n"
   ]
  },
  {
   "cell_type": "markdown",
   "metadata": {},
   "source": [
    "**Bài 03:** Trọng lượng (đơn vị gam) của một loại trái cây có phân phối chuẩn với µ = 500 (gam) gam và $σ^2 = 16 (gam^2)$. Trái cây thu hoạch được phân loại theo trọng lượng như sau:\n",
    "\n",
    "Loại 1: trên 505 gam\n",
    "\n",
    "Loại 2: từ 495 – 505 gam\n",
    "\n",
    "Loại 3: dười 495 gam\n",
    "\n",
    "a. Hãy tính tỷ lệ của mỗi loại.\n",
    "b. Bạn hãy mô phỏng lấy mẫu  20 trái cây trên. Bạn hãy vẽ histogram trọng lượng trái cây và tính giá trị trung bình và độ lệch chuẩn trái cây từ mẫu\n",
    "c. Bạn hãy mô phỏng lấy 100 trái cây trên. Bạn hãy vẽ histogram trọng lượng trái cây và tính giá trị trung bình và độ lệch chuẩn trái cây từ mẫu\n",
    "d. Từ hai cách lấy mẫu ở câu b, c bạn có nhận xét gì không?"
   ]
  },
  {
   "cell_type": "code",
   "execution_count": 15,
   "metadata": {},
   "outputs": [
    {
     "name": "stdout",
     "output_type": "stream",
     "text": [
      "Tỷ lệ loại 1 (X > 505): 0.1056\n",
      "Tỷ lệ loại 2 (495 <= X <= 505): 0.7887\n",
      "Tỷ lệ loại 3 (X < 495): 0.1056\n"
     ]
    },
    {
     "data": {
      "image/png": "[encoded data removed]",
      "text/plain": [
       "<Figure size 864x432 with 1 Axes>"
      ]
     },
     "metadata": {
      "needs_background": "light"
     },
     "output_type": "display_data"
    },
    {
     "name": "stdout",
     "output_type": "stream",
     "text": [
      "Giá trị trung bình mẫu 20: 502.2773\n",
      "Độ lệch chuẩn mẫu 20: 3.4007\n"
     ]
    },
    {
     "data": {
      "image/png": "[encoded data removed]",
      "text/plain": [
       "<Figure size 864x432 with 1 Axes>"
      ]
     },
     "metadata": {
      "needs_background": "light"
     },
     "output_type": "display_data"
    },
    {
     "name": "stdout",
     "output_type": "stream",
     "text": [
      "Giá trị trung bình mẫu 100: 500.1811\n",
      "Độ lệch chuẩn mẫu 100: 4.2341\n",
      "\n",
      "Nhận xét:\n",
      "Với mẫu nhỏ (20 trái cây), giá trị trung bình và độ lệch chuẩn có thể bị lệch so với giá trị lý thuyết.\n",
      "Với mẫu lớn (100 trái cây), giá trị trung bình và độ lệch chuẩn sẽ gần hơn với giá trị lý thuyết, và độ biến động của mẫu sẽ giảm.\n"
     ]
    }
   ],
   "source": [
    "# Tham số phân phối chuẩn\n",
    "mu = 500  # Trung bình (gam)\n",
    "sigma = 4  # Độ lệch chuẩn (gam)\n",
    "sample_size_20 = 20  # Kích thước mẫu 20\n",
    "sample_size_100 = 100  # Kích thước mẫu 100\n",
    "\n",
    "# a. Tính tỷ lệ của mỗi loại\n",
    "p_type_1 = 1 - norm.cdf(505, mu, sigma)  # Loại 1: X > 505\n",
    "p_type_2 = norm.cdf(505, mu, sigma) - norm.cdf(495, mu, sigma)  # Loại 2: 495 <= X <= 505\n",
    "p_type_3 = norm.cdf(495, mu, sigma)  # Loại 3: X < 495\n",
    "\n",
    "print(f\"Tỷ lệ loại 1 (X > 505): {p_type_1:.4f}\")\n",
    "print(f\"Tỷ lệ loại 2 (495 <= X <= 505): {p_type_2:.4f}\")\n",
    "print(f\"Tỷ lệ loại 3 (X < 495): {p_type_3:.4f}\")\n",
    "\n",
    "# b. Mô phỏng mẫu 20 trái cây và tính giá trị trung bình và độ lệch chuẩn\n",
    "np.random.seed(0)  # Đảm bảo tính lặp lại kết quả\n",
    "sample_20 = np.random.normal(mu, sigma, sample_size_20)\n",
    "\n",
    "# Vẽ histogram mẫu 20 trái cây\n",
    "plt.figure(figsize=(12, 6))\n",
    "plt.hist(sample_20, bins=10, edgecolor='black', alpha=0.7)\n",
    "plt.title('Histogram của mẫu 20 trái cây')\n",
    "plt.xlabel('Trọng lượng (gam)')\n",
    "plt.ylabel('Tần số')\n",
    "plt.show()\n",
    "\n",
    "# Tính giá trị trung bình và độ lệch chuẩn từ mẫu 20\n",
    "mean_20 = np.mean(sample_20)\n",
    "std_20 = np.std(sample_20)\n",
    "\n",
    "print(f\"Giá trị trung bình mẫu 20: {mean_20:.4f}\")\n",
    "print(f\"Độ lệch chuẩn mẫu 20: {std_20:.4f}\")\n",
    "\n",
    "# c. Mô phỏng mẫu 100 trái cây và tính giá trị trung bình và độ lệch chuẩn\n",
    "sample_100 = np.random.normal(mu, sigma, sample_size_100)\n",
    "\n",
    "# Vẽ histogram mẫu 100 trái cây\n",
    "plt.figure(figsize=(12, 6))\n",
    "plt.hist(sample_100, bins=15, edgecolor='black', alpha=0.7)\n",
    "plt.title('Histogram của mẫu 100 trái cây')\n",
    "plt.xlabel('Trọng lượng (gam)')\n",
    "plt.ylabel('Tần số')\n",
    "plt.show()\n",
    "\n",
    "# Tính giá trị trung bình và độ lệch chuẩn từ mẫu 100\n",
    "mean_100 = np.mean(sample_100)\n",
    "std_100 = np.std(sample_100)\n",
    "\n",
    "print(f\"Giá trị trung bình mẫu 100: {mean_100:.4f}\")\n",
    "print(f\"Độ lệch chuẩn mẫu 100: {std_100:.4f}\")\n",
    "\n",
    "# d. So sánh kết quả từ hai mẫu\n",
    "print(\"\\nNhận xét:\")\n",
    "print(\"Với mẫu nhỏ (20 trái cây), giá trị trung bình và độ lệch chuẩn có thể bị lệch so với giá trị lý thuyết.\")\n",
    "print(\"Với mẫu lớn (100 trái cây), giá trị trung bình và độ lệch chuẩn sẽ gần hơn với giá trị lý thuyết, và độ biến động của mẫu sẽ giảm.\")\n"
   ]
  },
  {
   "cell_type": "markdown",
   "metadata": {},
   "source": [
    "**Bài 04:** Mô phỏng tung một con xúc sắc cân đối đồng chất 5000 lần. Dựa vào giá trị mô phỏng, bạn hãy tìm các giá trị xác suất dưới đây:\n",
    "\n",
    "a. Xác suất để  số chấm xuất hiện là 4\n",
    "\n",
    "b. Xác suất để số chấm xuất hiện lớn hơn hoặc bằng 4\n",
    "\n",
    "c. Giả sử biết số chấm xuất hiện lớn hơn hoặc bằng 4. Hãy tìm xác suất để mặt 6 chấm xuất hiện."
   ]
  },
  {
   "cell_type": "code",
   "execution_count": 16,
   "metadata": {
    "vscode": {
     "languageId": "plaintext"
    }
   },
   "outputs": [
    {
     "name": "stdout",
     "output_type": "stream",
     "text": [
      "Xác suất để số chấm xuất hiện là 4: 0.1728\n",
      "Xác suất để số chấm xuất hiện lớn hơn hoặc bằng 4: 0.5060\n",
      "Xác suất để mặt 6 xuất hiện, biết rằng số chấm xuất hiện lớn hơn hoặc bằng 4: 0.3348\n"
     ]
    }
   ],
   "source": [
    "import numpy as np\n",
    "\n",
    "# Số lần tung xúc sắc\n",
    "n = 5000\n",
    "\n",
    "# Mô phỏng tung xúc sắc n lần\n",
    "throws = np.random.randint(1, 7, size=n)  # Tạo ra một mảng gồm các số từ 1 đến 6\n",
    "\n",
    "# a. Xác suất để số chấm xuất hiện là 4\n",
    "count_4 = np.sum(throws == 4)\n",
    "prob_4 = count_4 / n\n",
    "print(f\"Xác suất để số chấm xuất hiện là 4: {prob_4:.4f}\")\n",
    "\n",
    "# b. Xác suất để số chấm xuất hiện lớn hơn hoặc bằng 4\n",
    "count_ge_4 = np.sum(throws >= 4)\n",
    "prob_ge_4 = count_ge_4 / n\n",
    "print(f\"Xác suất để số chấm xuất hiện lớn hơn hoặc bằng 4: {prob_ge_4:.4f}\")\n",
    "\n",
    "# c. Xác suất để mặt 6 xuất hiện, biết rằng số chấm xuất hiện lớn hơn hoặc bằng 4\n",
    "# Xác suất có điều kiện P(6 | >= 4) = P(6 và >= 4) / P(>= 4)\n",
    "count_6_given_ge_4 = np.sum((throws >= 4) & (throws == 6))\n",
    "prob_6_given_ge_4 = count_6_given_ge_4 / count_ge_4\n",
    "print(f\"Xác suất để mặt 6 xuất hiện, biết rằng số chấm xuất hiện lớn hơn hoặc bằng 4: {prob_6_given_ge_4:.4f}\")\n"
   ]
  },
  {
   "cell_type": "markdown",
   "metadata": {},
   "source": [
    "**Bài 05:** Tạo 5000 số ngẫu nhiên có phân phối nhị thức với n=50, p=0.7 Bạn Hãy\n",
    "\n",
    "a. Tìm các giá trị thống kê: min, max, Q1, Q2, Q3\n",
    "\n",
    "b. Vẽ đồ thị boxplot\n",
    "\n",
    "c. Vẽ các đồ thị: tần số, tần suất"
   ]
  },
  {
   "cell_type": "code",
   "execution_count": 18,
   "metadata": {
    "vscode": {
     "languageId": "plaintext"
    }
   },
   "outputs": [
    {
     "name": "stdout",
     "output_type": "stream",
     "text": [
      "Min: 22\n",
      "Max: 47\n",
      "Q1 (Phân vị 25%): 33.0\n",
      "Q2 (Trung vị): 35.0\n",
      "Q3 (Phân vị 75%): 37.0\n"
     ]
    },
    {
     "data": {
      "image/png": "[encoded data removed]",
      "text/plain": [
       "<Figure size 576x432 with 1 Axes>"
      ]
     },
     "metadata": {
      "needs_background": "light"
     },
     "output_type": "display_data"
    },
    {
     "data": {
      "image/png": "[encoded data removed]",
      "text/plain": [
       "<Figure size 576x432 with 1 Axes>"
      ]
     },
     "metadata": {
      "needs_background": "light"
     },
     "output_type": "display_data"
    },
    {
     "data": {
      "image/png": "[encoded data removed]",
      "text/plain": [
       "<Figure size 576x432 with 1 Axes>"
      ]
     },
     "metadata": {
      "needs_background": "light"
     },
     "output_type": "display_data"
    }
   ],
   "source": [
    "import numpy as np\n",
    "import matplotlib.pyplot as plt\n",
    "import seaborn as sns\n",
    "from scipy.stats import binom\n",
    "\n",
    "# Tham số phân phối nhị thức\n",
    "n = 50  # Số lần thử\n",
    "p = 0.7  # Xác suất thành công\n",
    "\n",
    "# Tạo 5000 số ngẫu nhiên có phân phối nhị thức\n",
    "sample_size = 5000\n",
    "binom_samples = binom.rvs(n, p, size=sample_size)\n",
    "\n",
    "# a. Tính các giá trị thống kê\n",
    "min_value = np.min(binom_samples)\n",
    "max_value = np.max(binom_samples)\n",
    "Q1 = np.percentile(binom_samples, 25)  # Phân vị 25%\n",
    "Q2 = np.percentile(binom_samples, 50)  # Phân vị 50% (trung vị)\n",
    "Q3 = np.percentile(binom_samples, 75)  # Phân vị 75%\n",
    "\n",
    "print(f\"Min: {min_value}\")\n",
    "print(f\"Max: {max_value}\")\n",
    "print(f\"Q1 (Phân vị 25%): {Q1}\")\n",
    "print(f\"Q2 (Trung vị): {Q2}\")\n",
    "print(f\"Q3 (Phân vị 75%): {Q3}\")\n",
    "\n",
    "# b. Vẽ đồ thị Boxplot\n",
    "plt.figure(figsize=(8, 6))\n",
    "sns.boxplot(data=binom_samples, color='skyblue', width=0.5)\n",
    "plt.title('Boxplot của phân phối nhị thức')\n",
    "plt.ylabel('Giá trị')\n",
    "plt.show()\n",
    "\n",
    "# c. Vẽ đồ thị tần số (Histogram) và tần suất (Frequency Plot)\n",
    "# Histogram\n",
    "plt.figure(figsize=(8, 6))\n",
    "plt.hist(binom_samples, bins=30, edgecolor='black', alpha=0.7)\n",
    "plt.title('Histogram của phân phối nhị thức')\n",
    "plt.xlabel('Giá trị')\n",
    "plt.ylabel('Tần số')\n",
    "plt.show()\n",
    "\n",
    "# Tần suất (Frequency Plot) sử dụng seaborn\n",
    "plt.figure(figsize=(8, 6))\n",
    "sns.kdeplot(binom_samples, shade=True, color=\"r\", alpha=0.6)\n",
    "plt.title('Tần suất (Density Plot) của phân phối nhị thức')\n",
    "plt.xlabel('Giá trị')\n",
    "plt.ylabel('Tần suất')\n",
    "plt.show()\n"
   ]
  },
  {
   "cell_type": "markdown",
   "metadata": {},
   "source": [
    "**Bài 6**\n",
    "\n",
    "Giả sử X là biến ngẫu nhiên rời rạc\n",
    "\n",
    "a. Hãy cho biết ý nghĩa câu lệnh sau: `binom.pmf(4, 10, 0.6)`\n",
    "\n",
    "b. Giả sử X có phân phối nhị thức `X ~ B(10, 0.6)`. Hãy tính các giá trị sau:  \n",
    "$P(X \\leq 5), P(X \\le 5), P(X \\ge 4), P(X = 5) $\n",
    "\n",
    "c. Hãy cho biết ý nghĩa câu lệnh sau: `poisson.pmf(4, 3)`\n",
    "\n",
    "d. Giả sử X có phân phối Poisson `X ~ P(3)`. Hãy tính các giá trị sau:  \n",
    "$P(X \\leq 5), P(X \\le 5), P(X \\ge 4), P(X = 5) $"
   ]
  },
  {
   "cell_type": "markdown",
   "metadata": {},
   "source": [
    "a) Câu lệnh binom.pmf(4, 10, 0.6) sử dụng hàm PMF (Probability Mass Function) từ thư viện scipy.stats.binom để tính xác suất của một biến ngẫu nhiên rời rạc có phân phối nhị thức tại giá trị \n",
    "x=4. Cụ thể:\n",
    "\n",
    "4: Số lượng thành công (số lần sự kiện xảy ra) mà bạn quan tâm, trong trường hợp này là 4.\\n\n",
    "10: Tổng số lần thử (số phép thử), trong trường hợp này là 10.\\n\n",
    "0.6: Xác suất thành công trong mỗi phép thử.\n",
    "Vậy, binom.pmf(4, 10, 0.6) trả về xác suất để trong 10 lần thử, có chính xác 4 lần thành công với xác suất thành công trong mỗi lần thử là 0.6."
   ]
  },
  {
   "cell_type": "code",
   "execution_count": 19,
   "metadata": {},
   "outputs": [
    {
     "name": "stdout",
     "output_type": "stream",
     "text": [
      "P(X ≤ 5): 0.3669\n",
      "P(X < 5): 0.1662\n",
      "P(X ≥ 4): 0.9452\n",
      "P(X = 5): 0.2007\n"
     ]
    }
   ],
   "source": [
    "from scipy.stats import binom\n",
    "\n",
    "# Tham số phân phối nhị thức\n",
    "n = 10  # Số lần thử\n",
    "p = 0.6  # Xác suất thành công\n",
    "\n",
    "# Tính các giá trị yêu cầu:\n",
    "P_X_leq_5 = binom.cdf(5, n, p)  # P(X ≤ 5)\n",
    "P_X_lt_5 = binom.cdf(4, n, p)  # P(X < 5)\n",
    "P_X_geq_4 = 1 - binom.cdf(3, n, p)  # P(X ≥ 4) = 1 - P(X < 4)\n",
    "P_X_eq_5 = binom.pmf(5, n, p)  # P(X = 5)\n",
    "\n",
    "print(f\"P(X ≤ 5): {P_X_leq_5:.4f}\")\n",
    "print(f\"P(X < 5): {P_X_lt_5:.4f}\")\n",
    "print(f\"P(X ≥ 4): {P_X_geq_4:.4f}\")\n",
    "print(f\"P(X = 5): {P_X_eq_5:.4f}\")\n"
   ]
  },
  {
   "cell_type": "markdown",
   "metadata": {},
   "source": [
    "c) Câu lệnh poisson.pmf(4, 3) sử dụng hàm PMF (Probability Mass Function) từ thư viện scipy.stats.poisson để tính xác suất của một biến ngẫu nhiên có phân phối Poisson tại giá trị \n",
    "x=4. Cụ thể:\n",
    "\n",
    "4: Giá trị cụ thể mà bạn muốn tính xác suất.\n",
    "3: Tham số \n",
    "𝜆\n",
    "λ (lambda), tức là tỷ lệ sự kiện xảy ra trong khoảng thời gian hoặc không gian cụ thể, trong trường hợp này là 3.\n",
    "Vậy, poisson.pmf(4, 3) trả về xác suất để có chính xác 4 sự kiện xảy ra trong một khoảng thời gian (hoặc không gian) có tỷ lệ sự kiện trung bình là 3."
   ]
  },
  {
   "cell_type": "code",
   "execution_count": 20,
   "metadata": {},
   "outputs": [
    {
     "name": "stdout",
     "output_type": "stream",
     "text": [
      "P(X ≤ 5): 0.9161\n",
      "P(X < 5): 0.8153\n",
      "P(X ≥ 4): 0.3528\n",
      "P(X = 5): 0.1008\n"
     ]
    }
   ],
   "source": [
    "from scipy.stats import poisson\n",
    "\n",
    "# Tham số phân phối Poisson\n",
    "lambda_value = 3  # Giá trị λ (lambda)\n",
    "\n",
    "# Tính các giá trị yêu cầu:\n",
    "P_X_leq_5 = poisson.cdf(5, lambda_value)  # P(X ≤ 5)\n",
    "P_X_lt_5 = poisson.cdf(4, lambda_value)  # P(X < 5)\n",
    "P_X_geq_4 = 1 - poisson.cdf(3, lambda_value)  # P(X ≥ 4) = 1 - P(X ≤ 3)\n",
    "P_X_eq_5 = poisson.pmf(5, lambda_value)  # P(X = 5)\n",
    "\n",
    "print(f\"P(X ≤ 5): {P_X_leq_5:.4f}\")\n",
    "print(f\"P(X < 5): {P_X_lt_5:.4f}\")\n",
    "print(f\"P(X ≥ 4): {P_X_geq_4:.4f}\")\n",
    "print(f\"P(X = 5): {P_X_eq_5:.4f}\")\n"
   ]
  },
  {
   "cell_type": "code",
   "execution_count": null,
   "metadata": {},
   "outputs": [],
   "source": []
  },
  {
   "cell_type": "markdown",
   "metadata": {},
   "source": [
    "**Bài 7**\n",
    "\n",
    "a. Cho biết ý nghĩa của các câu lệnh sau:\n",
    "\n",
    "- `norm.cdf(2)`\n",
    "\n",
    "- `norm.cdf(2, 1, 1)`\n",
    "\n",
    "- `norm.cdf(2, 1, 2)`\n",
    "\n",
    "b. Cho biết kết quả của câu lệnh sau: `norm.ppf(norm.cdf(2))`\n",
    "\n",
    "c. Tính các giá trị sau và vẽ hình minh họa cho các giá trị tính được:\n",
    "\n",
    "- `norm.ppf(0.975)`\n",
    "\n",
    "- `norm.ppf(0.975, 1, 1)`\n",
    "\n",
    "- `norm.ppf(0.975, 1, 2)`\n",
    "\n",
    "d. Giả sử biến ngẫu nhiên X có phân phối chuẩn với kỳ vọng là 24 và phương sai là 16. Hãy tính các giá trị sau:\n",
    "\n",
    "- $P(X \\leq 20)$\n",
    "- $P(X \\ge 29.5)$\n",
    "- $P(X = 23.8)$"
   ]
  },
  {
   "cell_type": "markdown",
   "metadata": {},
   "source": [
    "a)\n",
    "+norm.cdf(2):\n",
    "\n",
    "Ý nghĩa: Tính giá trị của hàm phân phối tích lũy (Cumulative Distribution Function - CDF) tại \n",
    "x=2 cho phân phối chuẩn chuẩn hóa (Standard Normal Distribution), nghĩa là μ=0, \n",
    "σ=1.CDF cho biết xác suất P(X≤x), tức là xác suất biến ngẫu nhiên X nhỏ hơn hoặc bằng x.\n",
    "\n",
    "+norm.cdf(2, 1, 1):\n",
    "\n",
    "Ý nghĩa: Tính CDF tại x=2 cho một phân phối chuẩn có kỳ vọng μ=1 và độ lệch chuẩn σ=1.\n",
    "Công thức tính:CDF(x)=P(X≤x)=Φ((x−μ)/σ)\n",
    "    \n",
    "+norm.cdf(2, 1, 2):\n",
    "\n",
    "Ý nghĩa: Tính CDF tại \n",
    "x=2 cho một phân phối chuẩn có kỳ vọng μ=1 và độ lệch chuẩn σ=2.\n",
    "Tương tự, sử dụng công thức trên để tính giá trị CDF.\n",
    "\n",
    "b)"
   ]
  },
  {
   "cell_type": "markdown",
   "metadata": {},
   "source": [
    "#Câu b\n",
    "norm.ppf(norm.cdf(2))\n",
    "Vì \n",
    "norm.ppf(norm.cdf(2)) chỉ đơn giản là nghịch đảo của chính nó, nên kết quả trả về sẽ là 2"
   ]
  },
  {
   "cell_type": "code",
   "execution_count": 23,
   "metadata": {},
   "outputs": [
    {
     "name": "stdout",
     "output_type": "stream",
     "text": [
      "PPF(0.975) for N(0,1): 1.959963984540054\n",
      "PPF(0.975) for N(1,1): 2.959963984540054\n",
      "PPF(0.975) for N(1,2): 4.919927969080108\n"
     ]
    },
    {
     "data": {
      "image/png": "[encoded data removed]",
      "text/plain": [
       "<Figure size 720x432 with 1 Axes>"
      ]
     },
     "metadata": {
      "needs_background": "light"
     },
     "output_type": "display_data"
    }
   ],
   "source": [
    "#Cau c\n",
    "import numpy as np\n",
    "import matplotlib.pyplot as plt\n",
    "from scipy.stats import norm\n",
    "\n",
    "# Tính giá trị ppf cho các giá trị xác suất\n",
    "ppf_975 = norm.ppf(0.975)  # Phân phối chuẩn chuẩn hóa\n",
    "ppf_975_1_1 = norm.ppf(0.975, 1, 1)  # N(1, 1)\n",
    "ppf_975_1_2 = norm.ppf(0.975, 1, 2)  # N(1, 2)\n",
    "\n",
    "print(f\"PPF(0.975) for N(0,1): {ppf_975}\")\n",
    "print(f\"PPF(0.975) for N(1,1): {ppf_975_1_1}\")\n",
    "print(f\"PPF(0.975) for N(1,2): {ppf_975_1_2}\")\n",
    "\n",
    "# Vẽ đồ thị\n",
    "x = np.linspace(-5, 5, 1000)\n",
    "y = norm.pdf(x)  # Hàm mật độ xác suất chuẩn\n",
    "\n",
    "plt.figure(figsize=(10, 6))\n",
    "plt.plot(x, y, label=\"N(0,1)\")\n",
    "\n",
    "# Vẽ các đường thẳng cho các giá trị ppf\n",
    "plt.axvline(ppf_975, color='r', linestyle='--', label=\"PPF(0.975) N(0,1)\")\n",
    "plt.axvline(ppf_975_1_1, color='g', linestyle='--', label=\"PPF(0.975) N(1,1)\")\n",
    "plt.axvline(ppf_975_1_2, color='b', linestyle='--', label=\"PPF(0.975) N(1,2)\")\n",
    "\n",
    "plt.legend()\n",
    "plt.title('Percent Point Function for Normal Distributions')\n",
    "plt.xlabel('X')\n",
    "plt.ylabel('Density')\n",
    "plt.grid(True)\n",
    "plt.show()\n"
   ]
  },
  {
   "cell_type": "code",
   "execution_count": 24,
   "metadata": {},
   "outputs": [
    {
     "name": "stdout",
     "output_type": "stream",
     "text": [
      "P(X ≤ 20): 0.1587\n",
      "P(X ≥ 29.5): 0.0846\n",
      "P(X = 23.8) (Density): 0.0996\n"
     ]
    }
   ],
   "source": [
    "#Cau d\n",
    "# Tham số phân phối chuẩn\n",
    "mu = 24\n",
    "sigma = 4\n",
    "\n",
    "# Tính các giá trị yêu cầu\n",
    "P_X_leq_20 = norm.cdf(20, mu, sigma)  # P(X ≤ 20)\n",
    "P_X_geq_29_5 = 1 - norm.cdf(29.5, mu, sigma)  # P(X ≥ 29.5)\n",
    "P_X_23_8 = norm.pdf(23.8, mu, sigma)  # Mật độ xác suất tại X = 23.8\n",
    "\n",
    "print(f\"P(X ≤ 20): {P_X_leq_20:.4f}\")\n",
    "print(f\"P(X ≥ 29.5): {P_X_geq_29_5:.4f}\")\n",
    "print(f\"P(X = 23.8) (Density): {P_X_23_8:.4f}\")\n"
   ]
  },
  {
   "cell_type": "markdown",
   "metadata": {},
   "source": [
    "**Bài 8**\n",
    "\n",
    "Một công ty sản xuất làm ra các chi tiết máy với độ dài các chi tiết có phân phối chuẩn với kỳ vọng là 3000 mm và độ lệch chuẩn là 3 mm. Yêu cầu cho các chi tiết máy này là phải có chiều dài từ 2993 mm đến 3007 mm. Tính tỷ lệ sản phẩm lỗi của công ty"
   ]
  },
  {
   "cell_type": "code",
   "execution_count": 25,
   "metadata": {},
   "outputs": [
    {
     "name": "stdout",
     "output_type": "stream",
     "text": [
      "Tỷ lệ sản phẩm lỗi: 0.0196\n"
     ]
    }
   ],
   "source": [
    "from scipy.stats import norm\n",
    "\n",
    "# Tham số phân phối chuẩn\n",
    "mu = 3000  # Kỳ vọng (mean)\n",
    "sigma = 3  # Độ lệch chuẩn (standard deviation)\n",
    "\n",
    "# Tính các giá trị chuẩn hóa\n",
    "z1 = (2993 - mu) / sigma  # Z đối với X = 2993\n",
    "z2 = (3007 - mu) / sigma  # Z đối với X = 3007\n",
    "\n",
    "# Tính xác suất P(2993 <= X <= 3007)\n",
    "P_in_range = norm.cdf(z2) - norm.cdf(z1)\n",
    "\n",
    "# Tính xác suất sản phẩm lỗi\n",
    "P_error = 1 - P_in_range\n",
    "\n",
    "# In kết quả\n",
    "print(f\"Tỷ lệ sản phẩm lỗi: {P_error:.4f}\")\n"
   ]
  },
  {
   "cell_type": "markdown",
   "metadata": {},
   "source": [
    "**Bài 9**\n",
    "\n",
    "Giả sử điểm thi TOEIC là một biến ngẫu nhiên có phân phối chuẩn với kỳ vọng là 500, độ lệch chuẩn là 8. Bạn hãy:\n",
    "\n",
    "a. Mô phỏng bằng cách phát sinh ngẫu nhiên điểm thi TOIEC của một nhóm gồm 50 người.\n",
    "\n",
    "b. Tính điểm trung bình và độ lệch chuẩn về điểm của nhóm.\n",
    "\n",
    "c. Tìm miền giá trị, và miền phân vị (IQR) của nhóm\n",
    "\n",
    "d. Cho biết tỷ lệ đạt trên 450 điểm của nhóm. \n",
    "\n",
    "e. Vẽ đồ thị histogram của nhóm và so sánh với đồ thị hàm mật độ của phân phối chuẩn với kỳ vọng là 500 và độ lệch chuẩn là 8.\n",
    "\n",
    "f. Thay vì mô phỏng 50 người, hãy mô phỏng nhóm với 100 người thi. Bạn có nhận xét gì?"
   ]
  },
  {
   "cell_type": "code",
   "execution_count": 27,
   "metadata": {},
   "outputs": [
    {
     "data": {
      "image/png": "[encoded data removed]",
      "text/plain": [
       "<Figure size 720x432 with 1 Axes>"
      ]
     },
     "metadata": {
      "needs_background": "light"
     },
     "output_type": "display_data"
    },
    {
     "name": "stdout",
     "output_type": "stream",
     "text": [
      "Điểm trung bình (50 người): 497.44\n",
      "Độ lệch chuẩn (50 người): 8.23\n",
      "Miền giá trị: 481.96 đến 513.12\n",
      "Miền phân vị (IQR): 12.87\n",
      "Tỷ lệ đạt trên 450 điểm (50 người): 100.00%\n",
      "\n",
      "Điểm trung bình (100 người): 499.63\n",
      "Độ lệch chuẩn (100 người): 7.47\n"
     ]
    }
   ],
   "source": [
    "import numpy as np\n",
    "import matplotlib.pyplot as plt\n",
    "from scipy.stats import norm\n",
    "\n",
    "# Tham số phân phối chuẩn\n",
    "mu = 500  # Kỳ vọng\n",
    "sigma = 8  # Độ lệch chuẩn\n",
    "\n",
    "# a. Mô phỏng điểm thi TOEIC của nhóm 50 người\n",
    "sample_size = 50\n",
    "toiec_scores_50 = np.random.normal(mu, sigma, sample_size)\n",
    "\n",
    "# b. Tính điểm trung bình và độ lệch chuẩn\n",
    "mean_score = np.mean(toiec_scores_50)\n",
    "std_dev_score = np.std(toiec_scores_50)\n",
    "\n",
    "# c. Tìm miền giá trị và miền phân vị (IQR)\n",
    "min_score = np.min(toiec_scores_50)\n",
    "max_score = np.max(toiec_scores_50)\n",
    "Q1 = np.percentile(toiec_scores_50, 25)  # Phân vị thứ 1\n",
    "Q3 = np.percentile(toiec_scores_50, 75)  # Phân vị thứ 3\n",
    "IQR = Q3 - Q1\n",
    "\n",
    "# d. Tính tỷ lệ đạt trên 450 điểm\n",
    "above_450 = np.sum(toiec_scores_50 > 450) / sample_size\n",
    "\n",
    "# e. Vẽ đồ thị histogram và so sánh với đồ thị hàm mật độ chuẩn\n",
    "x = np.linspace(mu - 4*sigma, mu + 4*sigma, 1000)\n",
    "pdf = norm.pdf(x, mu, sigma)\n",
    "\n",
    "plt.figure(figsize=(10, 6))\n",
    "\n",
    "# Vẽ histogram của nhóm\n",
    "plt.hist(toiec_scores_50, bins=10, density=True, alpha=0.6, color='g', label='Histogram')\n",
    "\n",
    "# Vẽ hàm mật độ chuẩn\n",
    "plt.plot(x, pdf, label='PDF of N(500, 8)', color='r', linewidth=2)\n",
    "\n",
    "plt.title('Histogram of TOEIC Scores and PDF of N(500, 8)')\n",
    "plt.xlabel('TOEIC Score')\n",
    "plt.ylabel('Density')\n",
    "plt.legend()\n",
    "plt.grid(True)\n",
    "plt.show()\n",
    "\n",
    "# f. Mô phỏng 100 người thi\n",
    "sample_size_100 = 100\n",
    "toiec_scores_100 = np.random.normal(mu, sigma, sample_size_100)\n",
    "\n",
    "# Tính điểm trung bình và độ lệch chuẩn của nhóm 100 người\n",
    "mean_score_100 = np.mean(toiec_scores_100)\n",
    "std_dev_score_100 = np.std(toiec_scores_100)\n",
    "\n",
    "# In kết quả\n",
    "print(f\"Điểm trung bình (50 người): {mean_score:.2f}\")\n",
    "print(f\"Độ lệch chuẩn (50 người): {std_dev_score:.2f}\")\n",
    "print(f\"Miền giá trị: {min_score:.2f} đến {max_score:.2f}\")\n",
    "print(f\"Miền phân vị (IQR): {IQR:.2f}\")\n",
    "print(f\"Tỷ lệ đạt trên 450 điểm (50 người): {above_450*100:.2f}%\")\n",
    "\n",
    "print(f\"\\nĐiểm trung bình (100 người): {mean_score_100:.2f}\")\n",
    "print(f\"Độ lệch chuẩn (100 người): {std_dev_score_100:.2f}\")\n"
   ]
  },
  {
   "cell_type": "markdown",
   "metadata": {},
   "source": [
    "**Bài 10**\n",
    "\n",
    "Viết một chương trình để mô phỏng việc tung đồng xu và đánh giá phương sai của giá trị mô phỏng của biến ngẫu nhiên X (tung được mặt `Head`) đối với các số lần tung khác nhau. Giả sử  đồng xu phải cân bằng. \n",
    "\n",
    "Đối với mỗi N từ 10; 40; 90; 160; 250; 490; 640; 810; 1000, hãy ước tính giá trị của X bằng cách mô phỏng số lần tung đó. \n",
    "\n",
    "Bạn nên chạy mỗi mô phỏng 100 lần và sử dụng tập hợp các ước tính để đánh giá phương sai của ước tính x của bạn. Vẽ biểu đồ phương sai này so với N, bạn có nhận xét gì không?"
   ]
  },
  {
   "cell_type": "code",
   "execution_count": 28,
   "metadata": {},
   "outputs": [
    {
     "data": {
      "image/png": "[encoded data removed]",
      "text/plain": [
       "<Figure size 720x432 with 1 Axes>"
      ]
     },
     "metadata": {
      "needs_background": "light"
     },
     "output_type": "display_data"
    }
   ],
   "source": [
    "import numpy as np\n",
    "import matplotlib.pyplot as plt\n",
    "\n",
    "# Số lần mô phỏng\n",
    "simulations = 100\n",
    "\n",
    "# Các giá trị N (số lần tung đồng xu)\n",
    "N_values = [10, 40, 90, 160, 250, 490, 640, 810, 1000]\n",
    "\n",
    "# Khởi tạo mảng để lưu phương sai\n",
    "variances = []\n",
    "\n",
    "# Mô phỏng cho từng giá trị N\n",
    "for N in N_values:\n",
    "    estimates = []\n",
    "    \n",
    "    # Mô phỏng 100 lần với mỗi lần tung N lần\n",
    "    for _ in range(simulations):\n",
    "        # Mô phỏng N lần tung đồng xu (1: Head, 0: Tail)\n",
    "        tosses = np.random.binomial(1, 0.5, N)\n",
    "        # Ước tính tỷ lệ Head\n",
    "        estimate = np.mean(tosses)\n",
    "        estimates.append(estimate)\n",
    "    \n",
    "    # Tính phương sai của các ước tính\n",
    "    variance = np.var(estimates)\n",
    "    variances.append(variance)\n",
    "\n",
    "# Vẽ biểu đồ phương sai so với N\n",
    "plt.figure(figsize=(10, 6))\n",
    "plt.plot(N_values, variances, marker='o', color='b', linestyle='-', markersize=8)\n",
    "plt.xlabel('Số lần tung N')\n",
    "plt.ylabel('Phương sai của ước tính X')\n",
    "plt.title('Phương sai của ước tính X so với số lần tung N')\n",
    "plt.grid(True)\n",
    "plt.show()\n"
   ]
  },
  {
   "cell_type": "markdown",
   "metadata": {},
   "source": [
    "---"
   ]
  }
 ],
 "metadata": {
  "colab": {
   "authorship_tag": "ABX9TyOkldNpyHDDGNs27UhN+pnq",
   "provenance": []
  },
  "kernelspec": {
   "display_name": "Python 3",
   "language": "python",
   "name": "python3"
  },
  "language_info": {
   "codemirror_mode": {
    "name": "ipython",
    "version": 3
   },
   "file_extension": ".py",
   "mimetype": "text/x-python",
   "name": "python",
   "nbconvert_exporter": "python",
   "pygments_lexer": "ipython3",
   "version": "3.7.1"
  }
 },
 "nbformat": 4,
 "nbformat_minor": 1
}
