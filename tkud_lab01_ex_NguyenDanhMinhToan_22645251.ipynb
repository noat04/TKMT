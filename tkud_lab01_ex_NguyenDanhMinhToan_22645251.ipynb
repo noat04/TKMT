{
 "cells": [
  {
   "cell_type": "markdown",
   "metadata": {
    "id": "Cj3g7_Xjv0cQ"
   },
   "source": [
    "# Lab 01 - Bài tập"
   ]
  },
  {
   "cell_type": "markdown",
   "metadata": {
    "id": "uHya_O8Nv9Bg"
   },
   "source": [
    "## PYTHON\n"
   ]
  },
  {
   "cell_type": "markdown",
   "metadata": {},
   "source": [
    "1. Viết chương trình nhập vào số nguyên n (n>0). In ra các số nguyên tố từ 1..n\n"
   ]
  },
  {
   "cell_type": "code",
   "execution_count": 1,
   "metadata": {
    "id": "AnQZ06Hxxwlo"
   },
   "outputs": [
    {
     "name": "stdout",
     "output_type": "stream",
     "text": [
      "Nhập số nguyên dương n (n > 0): 1\n",
      "Các số nguyên tố từ 1 đến 1 là:\n"
     ]
    }
   ],
   "source": [
    "def is_prime(num):\n",
    "    \"\"\"Hàm kiểm tra số nguyên tố.\"\"\"\n",
    "    if num < 2:\n",
    "        return False\n",
    "    for i in range(2, int(num ** 0.5) + 1):\n",
    "        if num % i == 0:\n",
    "            return False\n",
    "    return True\n",
    "\n",
    "def main():\n",
    "    # Nhập số nguyên dương n\n",
    "    n = int(input(\"Nhập số nguyên dương n (n > 0): \"))\n",
    "    \n",
    "    if n <= 0:\n",
    "        print(\"Vui lòng nhập số nguyên dương lớn hơn 0.\")\n",
    "    else:\n",
    "        print(f\"Các số nguyên tố từ 1 đến {n} là:\")\n",
    "        for i in range(2, n + 1):\n",
    "            if is_prime(i):\n",
    "                print(i, end=\" \")\n",
    "\n",
    "if __name__ == \"__main__\":\n",
    "    main()\n"
   ]
  },
  {
   "cell_type": "markdown",
   "metadata": {
    "id": "XpmGHRLRxx34"
   },
   "source": [
    "2. Viết chương trình nhập vào số nguyên n có 3 chữ số. Tính tổng các chữ số của n"
   ]
  },
  {
   "cell_type": "code",
   "execution_count": 2,
   "metadata": {
    "id": "AXOFJ9Iwvtvh"
   },
   "outputs": [
    {
     "name": "stdout",
     "output_type": "stream",
     "text": [
      "Nhập số nguyên có 3 chữ số: 123\n",
      "Tổng các chữ số của 123 là: 6\n"
     ]
    }
   ],
   "source": [
    "def main():\n",
    "    # Nhập số nguyên có 3 chữ số\n",
    "    n = int(input(\"Nhập số nguyên có 3 chữ số: \"))\n",
    "    \n",
    "    # Kiểm tra tính hợp lệ của n\n",
    "    if 100 <= n <= 999:\n",
    "        # Tách và tính tổng các chữ số\n",
    "        total = sum(int(digit) for digit in str(n))\n",
    "        print(f\"Tổng các chữ số của {n} là: {total}\")\n",
    "    else:\n",
    "        print(\"Vui lòng nhập một số nguyên có đúng 3 chữ số!\")\n",
    "\n",
    "if __name__ == \"__main__\":\n",
    "    main()\n"
   ]
  },
  {
   "cell_type": "markdown",
   "metadata": {
    "id": "oba6gvmwyFrZ"
   },
   "source": [
    "3. Viết chương trình nhập vào một dãy các số nguyên được cách nhau bởi khoảng trắng (VD: 32 8 4 6 9...) lưu vào python ở dạng mảng. Thực hiện\n",
    "\n",
    "- Xuất mảng\n",
    "- Tính tổng các phần tử của mảng\n",
    "- Tìm số lớn nhất\n",
    "- Tìm số bé nhất\n",
    "- Sắp xếp mảng theo thứ tự giảm dần\n",
    "- In ra các số chẵn trong mảng"
   ]
  },
  {
   "cell_type": "code",
   "execution_count": null,
   "metadata": {
    "id": "9XBwANmGyFyY"
   },
   "outputs": [],
   "source": [
    "# Nhập dãy số nguyên từ người dùng\n",
    "numbers = list(map(int, input(\"Nhập dãy số nguyên cách nhau bởi khoảng trắng: \").split()))\n",
    "    \n",
    "# Xuất mảng\n",
    "print(\"Mảng đã nhập:\", numbers)\n",
    "    \n",
    "# Tính tổng các phần tử của mảng\n",
    "total = sum(numbers)\n",
    "print(\"Tổng các phần tử của mảng:\", total)\n",
    "    \n",
    "# Tìm số lớn nhất\n",
    "max_num = max(numbers)\n",
    "print(\"Số lớn nhất trong mảng:\", max_num)\n",
    "    \n",
    "# Tìm số bé nhất\n",
    "min_num = min(numbers)\n",
    "print(\"Số bé nhất trong mảng:\", min_num)\n",
    "    \n",
    "# Sắp xếp mảng theo thứ tự giảm dần\n",
    "sorted_numbers = sorted(numbers, reverse=True)\n",
    "print(\"Mảng sau khi sắp xếp giảm dần:\", sorted_numbers)\n",
    "    \n",
    "# In ra các số chẵn trong mảng\n",
    "even_numbers = [num for num in numbers if num % 2 == 0]\n",
    "print(\"Các số chẵn trong mảng:\", even_numbers)"
   ]
  },
  {
   "cell_type": "markdown",
   "metadata": {
    "id": "hgGOt_Cxyulx"
   },
   "source": [
    "4. Viết chương trình yêu cầu người dùng nhập họ tên. Hiển thị tên người dùng sau khi đã chuẩn hóa. Biết rằng tên đã chuẩn hóa là:\n",
    "- Ký tự đầu viết hoa\n",
    "- Không có khoảng trắng thừa\n",
    "- Không có ký tự đặc biệt"
   ]
  },
  {
   "cell_type": "code",
   "execution_count": 5,
   "metadata": {
    "id": "duR4BF8Dyu_w"
   },
   "outputs": [
    {
     "name": "stdout",
     "output_type": "stream",
     "text": [
      "Nhập họ tên: nguyentoan1213\n",
      "Tên sau khi chuẩn hóa: Nguyentoan\n"
     ]
    }
   ],
   "source": [
    "import re\n",
    "# Nhập họ tên từ người dùng\n",
    "name = input(\"Nhập họ tên: \")\n",
    "# Chuẩn hóa tên\n",
    "# Loại bỏ ký tự đặc biệt\n",
    "name = re.sub(r'[^a-zA-Z\\s]', '', name)\n",
    "# Loại bỏ khoảng trắng thừa\n",
    "name = re.sub(r'\\s+', ' ', name).strip()\n",
    "# Viết hoa ký tự đầu mỗi từ\n",
    "name = ' '.join(word.capitalize() for word in name.split())\n",
    "# Hiển thị kết quả\n",
    "print(\"Tên sau khi chuẩn hóa:\", name)"
   ]
  },
  {
   "cell_type": "markdown",
   "metadata": {
    "id": "W5KucasA0NSA"
   },
   "source": [
    "5. Viết chương trình nhập vào một số nguyên dương (n>0). Cho biết n có phải là số đối xứng hay không? Biết số đối xứng là số viết xuôi hay viết ngược đều như nhau"
   ]
  },
  {
   "cell_type": "code",
   "execution_count": 7,
   "metadata": {
    "id": "FTH5V3je0YPg"
   },
   "outputs": [
    {
     "name": "stdout",
     "output_type": "stream",
     "text": [
      "Nhập một số nguyên dương (n > 0): 66\n",
      "66 là số đối xứng.\n"
     ]
    }
   ],
   "source": [
    "def is_palindrome(n):\n",
    "    \"\"\"\n",
    "    Kiểm tra số đối xứng.\n",
    "    - Số đối xứng là số mà khi viết ngược lại vẫn giống số ban đầu.\n",
    "    \"\"\"\n",
    "    str_n = str(n)  # Chuyển số thành chuỗi\n",
    "    return str_n == str_n[::-1]  # So sánh chuỗi với chuỗi đảo ngược của nó\n",
    "\n",
    "# Nhập số nguyên dương từ người dùng\n",
    "n = int(input(\"Nhập một số nguyên dương (n > 0): \"))\n",
    "# Kiểm tra tính hợp lệ của n\n",
    "if n > 0:\n",
    "# Kiểm tra số đối xứng\n",
    "    if is_palindrome(n):\n",
    "        print(f\"{n} là số đối xứng.\")\n",
    "    else:\n",
    "        print(f\"{n} không phải là số đối xứng.\")\n",
    "else:\n",
    "    print(\"Vui lòng nhập một số nguyên dương lớn hơn 0!\")\n"
   ]
  },
  {
   "cell_type": "markdown",
   "metadata": {},
   "source": [
    "6. Với số nguyên n nhất định, hãy viết chương trình hiển thị dictionary chứa các cặp (i, i*i) ; biết i có giá trị từ 1..n\n"
   ]
  },
  {
   "cell_type": "code",
   "execution_count": 8,
   "metadata": {},
   "outputs": [
    {
     "name": "stdout",
     "output_type": "stream",
     "text": [
      "Nhập một số nguyên dương n: 5\n",
      "Dictionary chứa các cặp (i, i*i): {1: 1, 2: 4, 3: 9, 4: 16, 5: 25}\n"
     ]
    }
   ],
   "source": [
    "def generate_square_dict(n):\n",
    "    square_dict = {i: i * i for i in range(1, n + 1)}\n",
    "    return square_dict\n",
    "# Nhập số nguyên dương n từ người dùng\n",
    "n = int(input(\"Nhập một số nguyên dương n: \"))\n",
    "    \n",
    "if n > 0:\n",
    "# Tạo và hiển thị dictionary\n",
    "    result = generate_square_dict(n)\n",
    "    print(\"Dictionary chứa các cặp (i, i*i):\", result)\n",
    "else:\n",
    "    print(\"Vui lòng nhập một số nguyên dương!\")"
   ]
  },
  {
   "cell_type": "markdown",
   "metadata": {},
   "source": [
    "7. Viết chương trình tìm tất cả các số chia hết cho 7 nhưng không phải bội số của 5, nằm trong đoạn 2000 và 3200 (tính cả 2000 và 3200). Các số thu được sẽ được in thành chuỗi trên một dòng, cách nhau bằng dấu phẩy"
   ]
  },
  {
   "cell_type": "code",
   "execution_count": 10,
   "metadata": {},
   "outputs": [
    {
     "name": "stdout",
     "output_type": "stream",
     "text": [
      "Các số thỏa mãn: 2002, 2009, 2016, 2023, 2037, 2044, 2051, 2058, 2072, 2079, 2086, 2093, 2107, 2114, 2121, 2128, 2142, 2149, 2156, 2163, 2177, 2184, 2191, 2198, 2212, 2219, 2226, 2233, 2247, 2254, 2261, 2268, 2282, 2289, 2296, 2303, 2317, 2324, 2331, 2338, 2352, 2359, 2366, 2373, 2387, 2394, 2401, 2408, 2422, 2429, 2436, 2443, 2457, 2464, 2471, 2478, 2492, 2499, 2506, 2513, 2527, 2534, 2541, 2548, 2562, 2569, 2576, 2583, 2597, 2604, 2611, 2618, 2632, 2639, 2646, 2653, 2667, 2674, 2681, 2688, 2702, 2709, 2716, 2723, 2737, 2744, 2751, 2758, 2772, 2779, 2786, 2793, 2807, 2814, 2821, 2828, 2842, 2849, 2856, 2863, 2877, 2884, 2891, 2898, 2912, 2919, 2926, 2933, 2947, 2954, 2961, 2968, 2982, 2989, 2996, 3003, 3017, 3024, 3031, 3038, 3052, 3059, 3066, 3073, 3087, 3094, 3101, 3108, 3122, 3129, 3136, 3143, 3157, 3164, 3171, 3178, 3192, 3199\n"
     ]
    }
   ],
   "source": [
    "# Dùng list comprehension để tìm các số thỏa mãn điều kiện\n",
    "numbers = [str(i) for i in range(2000, 3201) if i % 7 == 0 and i % 5 != 0]\n",
    "# Ghép các số thành chuỗi, cách nhau bằng dấu phẩy\n",
    "result = ', '.join(numbers)\n",
    "print(\"Các số thỏa mãn:\", result)"
   ]
  },
  {
   "cell_type": "markdown",
   "metadata": {},
   "source": [
    "8. Viết chương trình chấp nhận một chuỗi số, phân tách bằng dấu phẩy từ giao diện điều khiển, tạo ra một List và một tuple chứa mọi số.\n",
    "\n",
    "    Ví dụ:\n",
    "\n",
    "    ```\n",
    "    Đầu vào được cung cấp là '34,67,55,33,12,98' thì đầu ra là:\n",
    "\n",
    "    [34, 67, 55, 33, 12, 98]\n",
    "    (34, 67, 55, 33, 12, 98)\n",
    "    ```\n"
   ]
  },
  {
   "cell_type": "code",
   "execution_count": 12,
   "metadata": {},
   "outputs": [
    {
     "name": "stdout",
     "output_type": "stream",
     "text": [
      "Nhập chuỗi số, phân tách bằng dấu phẩy: 34,67,55,33,12,98\n",
      "List: [34, 67, 55, 33, 12, 98]\n",
      "Tuple: (34, 67, 55, 33, 12, 98)\n"
     ]
    }
   ],
   "source": [
    "# Nhập chuỗi số phân tách bằng dấu phẩy từ người dùng\n",
    "input_str = input(\"Nhập chuỗi số, phân tách bằng dấu phẩy: \")\n",
    "    \n",
    "# Tạo List từ chuỗi nhập vào\n",
    "num_list = list(map(int, input_str.split(',')))\n",
    "    \n",
    "# Tạo Tuple từ List\n",
    "num_tuple = tuple(num_list)\n",
    "    \n",
    "# Hiển thị kết quả\n",
    "print(\"List:\", num_list)\n",
    "print(\"Tuple:\", num_tuple)"
   ]
  },
  {
   "cell_type": "markdown",
   "metadata": {},
   "source": [
    "9. Viết hàm nhận vào một danh sách các số nguyên. Hãy viết hàm trả về một danh sách gồm các số không trùng nhau trong danh sách ban đầu"
   ]
  },
  {
   "cell_type": "code",
   "execution_count": 3,
   "metadata": {},
   "outputs": [
    {
     "name": "stdout",
     "output_type": "stream",
     "text": [
      "[1, 2, 3, 4, 5]\n"
     ]
    }
   ],
   "source": [
    "numbers = [1, 2, 2, 3, 4, 4, 5]\n",
    "seen = set()\n",
    "unique = []\n",
    "for num in numbers:\n",
    "    if num not in seen:\n",
    "        unique.append(num)\n",
    "        seen.add(num)\n",
    "print(unique)"
   ]
  },
  {
   "cell_type": "markdown",
   "metadata": {},
   "source": [
    "10. Viết hàm có tham số đầu vào là một list L có các phần tử là chuỗi. Hãy tạo ra một dictionary D mã hóa, với mỗi một phần tử trong L được mã hóa thành một con số (theo thứ tự từ 0 tăng dần lên 1 đơn vị). Sau đó trả về list đã được mã hóa\n",
    "\n",
    "    Ví dụ:\n",
    "\n",
    "    ```\n",
    "    Cho L = [\"đen\",\"vàng\",\"xanh\",\"vàng\",\"xanh\",\"đỏ\",\"hồng\"]\n",
    "\n",
    "    Xây dựng dictionary mã hóa:\n",
    "    D = {'đen':0,'vàng':1,'xanh':2,'đỏ':3,'hồng':4}\n",
    "\n",
    "    Trả về List mã hóa:\n",
    "    L_mahoa = [0, 1, 2, 1, 2, 3, 4]\n",
    "    ```"
   ]
  },
  {
   "cell_type": "code",
   "execution_count": 4,
   "metadata": {},
   "outputs": [
    {
     "name": "stdout",
     "output_type": "stream",
     "text": [
      "Dictionary mã hóa: {'đen': 0, 'vàng': 1, 'xanh': 2, 'đỏ': 3, 'hồng': 4}\n",
      "List mã hóa: [0, 1, 2, 1, 2, 3, 4]\n"
     ]
    }
   ],
   "source": [
    "def ma_hoa_list(L):\n",
    "    D = {}\n",
    "    next_code = 0\n",
    "    for item in L:\n",
    "        if item not in D:\n",
    "            D[item] = next_code\n",
    "            next_code += 1\n",
    "    \n",
    "    # Tạo list mã hóa\n",
    "    L_mahoa = [D[item] for item in L]\n",
    "    \n",
    "    return D, L_mahoa\n",
    "\n",
    "# Ví dụ sử dụng\n",
    "L = [\"đen\", \"vàng\", \"xanh\", \"vàng\", \"xanh\", \"đỏ\", \"hồng\"]\n",
    "D, L_mahoa = ma_hoa_list(L)\n",
    "print(\"Dictionary mã hóa:\", D)\n",
    "print(\"List mã hóa:\", L_mahoa)\n"
   ]
  },
  {
   "cell_type": "markdown",
   "metadata": {},
   "source": [
    "---"
   ]
  }
 ],
 "metadata": {
  "colab": {
   "authorship_tag": "ABX9TyOelhBBO7DINQ7b3uUiVhbi",
   "provenance": []
  },
  "kernelspec": {
   "display_name": "Python 3",
   "language": "python",
   "name": "python3"
  },
  "language_info": {
   "codemirror_mode": {
    "name": "ipython",
    "version": 3
   },
   "file_extension": ".py",
   "mimetype": "text/x-python",
   "name": "python",
   "nbconvert_exporter": "python",
   "pygments_lexer": "ipython3",
   "version": "3.7.1"
  }
 },
 "nbformat": 4,
 "nbformat_minor": 1
}
